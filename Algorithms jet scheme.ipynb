{
 "cells": [
  {
   "cell_type": "markdown",
   "id": "e458a9d1",
   "metadata": {},
   "source": [
    "# Algorithms jet scheme"
   ]
  },
  {
   "cell_type": "markdown",
   "id": "225a5538",
   "metadata": {},
   "source": [
    "## Construction of jet schemes"
   ]
  },
  {
   "cell_type": "markdown",
   "id": "372693b6",
   "metadata": {},
   "source": [
    "Function `jet_ring`: constructs the section ring of the jet scheme of some level of an affine scheme.\n",
    "\n",
    "**Inputs:**\n",
    "\n",
    "- `base`: the base field.\n",
    "- `var`: a list $[v_0,\\dots,v_n]$ of strings containing the names of the variables of the (polynomial) section ring of the affine space.\n",
    "- `dim`: a list $[d_0,\\dots,d_n]$ of positive integers of the same lenght as `var`. If some integer $d_i$ is greater than 1, then the base polynomial ring is supposed to have $d_i$ copies of the variable $v_i$, which are called $v_{i,0},\\dots,v_{i,d_i-1}$.\n",
    "- `trun`: a positive integer, the level of the jet scheme plus 1.\n",
    "- `monomial_order`: the monomial order on the section ring of the jet scheme, described with respect to the ordered list of variables $v_{0,0},\\dots,v_{0,d_0-1},v_{1,0},\\dots,v_{1,d_1-1},\\dots,v_{n,0},\\dots,v_{n,d_n-1}$.\n",
    "\n",
    "**Output:** the (polynomial) section ring of the jet scheme of level `trun`-1 of the affine scheme whose section ring is the polynomial ring in the variables in `var`, each one appearing as many times as the corresponding integer in `dim`."
   ]
  },
  {
   "cell_type": "code",
   "execution_count": 2,
   "id": "f0ad472c",
   "metadata": {},
   "outputs": [],
   "source": [
    "def jet_ring(base,var,dim,trun,monomial_order):\n",
    "    variables=[];\n",
    "    for r in range(len(var)):\n",
    "        if dim[r]==1:\n",
    "            variables.extend([var[r]+'%i' %i for i in range(trun)]);\n",
    "        else:\n",
    "            for j in range(dim[r]):\n",
    "                variables.extend([var[r]+str(j)+'%i' %i for i in range(trun)]);\n",
    "    R=PolynomialRing(base, variables, order=monomial_order);\n",
    "    return R"
   ]
  },
  {
   "cell_type": "markdown",
   "id": "e65cccfd",
   "metadata": {},
   "source": [
    "For example, in order to construct the section ring $\\mathbb{Q}[x,y,T_0,T_1,T_2]_5$ of $\\mathcal{L}_{5}(\\mathrm{Spec}(\\mathbb{Q}[x,y,T_0,T_1,T_2]))$ with the lexicographic order $T_{2,5}>\\dots>T_{2,0}>T_{1,5}>\\dots T_{1,0}>T_{0,5}>\\dots T_{0,0}>y_{5}>\\dots y_{0}>x_{5}>\\dots x_{0}$ we write:"
   ]
  },
  {
   "cell_type": "code",
   "execution_count": 3,
   "id": "b7876353",
   "metadata": {},
   "outputs": [
    {
     "data": {
      "text/plain": [
       "Multivariate Polynomial Ring in x0, x1, x2, x3, x4, x5, y0, y1, y2, y3, y4, y5, T00, T01, T02, T03, T04, T05, T10, T11, T12, T13, T14, T15, T20, T21, T22, T23, T24, T25 over Rational Field"
      ]
     },
     "execution_count": 3,
     "metadata": {},
     "output_type": "execute_result"
    }
   ],
   "source": [
    "jet_ring(QQ,['x','y','T'],[1,1,3],6,'invlex')"
   ]
  },
  {
   "cell_type": "markdown",
   "id": "30a9f876",
   "metadata": {},
   "source": [
    "Function `truncation_order`: given a (polynomial) section ring of a jet scheme of level $m$ of an affine space, returns the order of truncation $m+1$.\n",
    "\n",
    "Caution: does not work if the polynomial ring has been constructed using `jet_ring` where `dim` contains some entries equal to 1 and some entries different from 1 (and possibly in other cases).\n",
    "\n",
    "**Inputs:**\n",
    "\n",
    "- `R`: a (polynomial) section ring of a jet scheme of level $m$ of an affine space. It must be of the form of the ones constructed using the function `jet_ring`.\n",
    "\n",
    "**Output:** the order of truncation $m+1$."
   ]
  },
  {
   "cell_type": "code",
   "execution_count": 4,
   "id": "8f95366c",
   "metadata": {},
   "outputs": [],
   "source": [
    "def truncation_order(R):\n",
    "    c=len(R.variable_names()[-1])-len(R.variable_names()[0])+1;\n",
    "    trun=int(R.variable_names()[-1][-c:])+1;\n",
    "    return trun"
   ]
  },
  {
   "cell_type": "code",
   "execution_count": 5,
   "id": "3a97015a",
   "metadata": {},
   "outputs": [
    {
     "data": {
      "text/plain": [
       "5"
      ]
     },
     "execution_count": 5,
     "metadata": {},
     "output_type": "execute_result"
    }
   ],
   "source": [
    "truncation_order(jet_ring(QQ,['x','y'],[1,1],5,'invlex'))\n"
   ]
  },
  {
   "cell_type": "markdown",
   "id": "efe7253c",
   "metadata": {},
   "source": [
    "### Derivations and higher derivations"
   ]
  },
  {
   "cell_type": "markdown",
   "id": "65c0722d",
   "metadata": {},
   "source": [
    "Function `HasseSchmidt`: computes the polynomials in the ideal defining the jet scheme of a given level from the polynomials defining the base variety.\n",
    "\n",
    "**Inputs:**\n",
    "\n",
    "- `L`: a list $L=[f_1,\\dots,f_r]$ of elements of $A_0$, the section ring of the $0$-jet scheme (which is canonically isomorphic to $A$, the (polynomial) section ring of the base affine scheme).\n",
    "- `N`: a non-negative integer number.\n",
    "\n",
    "**Output:** A list of lists $[[f_{1,0},\\dots,f_{1,N}],\\dots, [f_{r,0},\\dots,f_{r,N}]]$, such that if $A=k[x_1,\\dots,x_n]$ then for every $1\\le i\\le s$ we have the following equality in $k[x_1,\\dots,x_n]_N[t]$:\n",
    "\\\\[f_i\\left(\\left(\\sum\\limits_{j=0}^{N}x_{i,j}t^{j}\\right)_{0\\le i\\le n}\\right)=\\sum\\limits_{s=0}^{N}f_{i,s}\\left((x_{i,j})_{\\substack{0\\le i\\le n\\\\0\\le j\\le s}}\\right)t^s \\hspace{5mm}(\\mathrm{mod}\\; t^{N+1})\\\\]"
   ]
  },
  {
   "cell_type": "code",
   "execution_count": 6,
   "id": "bbfb17df",
   "metadata": {},
   "outputs": [],
   "source": [
    "def HasseSchmidt (L,N):\n",
    "    trun=truncation_order(L[0].parent());\n",
    "    v=list(L[0].parent().variable_names());\n",
    "    v.append('t');\n",
    "    nvar=L[0].parent().ngens()//trun;\n",
    "    R1=PolynomialRing(L[0].parent().base_ring(), v, order=L[0].parent().term_order());\n",
    "    varser=[sum([R1.gen(r*trun+i)*R1.gen(R1.ngens()-1)^i for i in range(N+1)]) for r in range(nvar)];\n",
    "    dicsub = dict((R1.gen(r*trun),varser[r]) for r in range(nvar));\n",
    "    Lseries=[R1(s).subs(dicsub) for s in L];\n",
    "    LHS=[[L[0].parent()(s.coefficient({R1.gen(R1.ngens()-1):i})) for i in range(N+1)] for s in Lseries];\n",
    "    return LHS"
   ]
  },
  {
   "cell_type": "code",
   "execution_count": 7,
   "id": "245304b2",
   "metadata": {},
   "outputs": [
    {
     "name": "stdout",
     "output_type": "stream",
     "text": [
      "Defining x0, x1, x2, x3, x4, x5, y0, y1, y2, y3, y4, y5\n"
     ]
    },
    {
     "data": {
      "text/plain": [
       "[[y0^3 + x0^2,\n",
       "  3*y0^2*y1 + 2*x0*x1,\n",
       "  3*y0^2*y2 + 3*y0*y1^2 + 2*x0*x2 + x1^2,\n",
       "  3*y0^2*y3 + 6*y0*y1*y2 + y1^3 + 2*x0*x3 + 2*x1*x2],\n",
       " [x0*y0, x0*y1 + x1*y0, x0*y2 + x1*y1 + x2*y0, x0*y3 + x1*y2 + x2*y1 + x3*y0]]"
      ]
     },
     "execution_count": 7,
     "metadata": {},
     "output_type": "execute_result"
    }
   ],
   "source": [
    "A=jet_ring(QQ,['x','y'],[1,1],6,'invlex')\n",
    "A.inject_variables()\n",
    "HasseSchmidt ([x0^2+y0^3,x0*y0],3)"
   ]
  },
  {
   "cell_type": "markdown",
   "id": "2f7c5f8c",
   "metadata": {},
   "source": [
    "Function `HS_to_ideal`: returns the ideal generated by the polynomials in the input of `HasseSchmidt`.\n",
    "\n",
    "**Inputs:**\n",
    "\n",
    "- `LHS`: a list of lists $[[f_{1,0},\\dots,f_{1,N}],\\dots, [f_{r,0},\\dots,f_{r,N}]]$ as in the output of `HasseSchmidt`.\n",
    "- `N`: a non-negative integer number, corresponding to the size of any of the inner lists in `LHS`.\n",
    "\n",
    "**Output:** The ideal generated by all the polynomials in `LHS`."
   ]
  },
  {
   "cell_type": "code",
   "execution_count": 8,
   "id": "406b5bff",
   "metadata": {},
   "outputs": [],
   "source": [
    "def HS_to_ideal (LHS,N):\n",
    "    gen=[];\n",
    "    for s in LHS:\n",
    "        gen=gen + s[:N+1];\n",
    "    HSideal=gen[0].parent().ideal(gen);\n",
    "    return HSideal    "
   ]
  },
  {
   "cell_type": "code",
   "execution_count": 9,
   "id": "78b6f84d",
   "metadata": {},
   "outputs": [
    {
     "name": "stdout",
     "output_type": "stream",
     "text": [
      "Defining x0, x1, x2, x3, x4, x5, y0, y1, y2, y3, y4, y5\n"
     ]
    },
    {
     "data": {
      "text/plain": [
       "Ideal (y0^3 + x0^2, 3*y0^2*y1 + 2*x0*x1, 3*y0^2*y2 + 3*y0*y1^2 + 2*x0*x2 + x1^2, 3*y0^2*y3 + 6*y0*y1*y2 + y1^3 + 2*x0*x3 + 2*x1*x2, x0*y0, x0*y1 + x1*y0, x0*y2 + x1*y1 + x2*y0, x0*y3 + x1*y2 + x2*y1 + x3*y0) of Multivariate Polynomial Ring in x0, x1, x2, x3, x4, x5, y0, y1, y2, y3, y4, y5 over Rational Field"
      ]
     },
     "execution_count": 9,
     "metadata": {},
     "output_type": "execute_result"
    }
   ],
   "source": [
    "A=jet_ring(QQ,['x','y'],[1,1],6,'invlex')\n",
    "A.inject_variables()\n",
    "HS_to_ideal(HasseSchmidt ([x0^2+y0^3,x0*y0],3),3)"
   ]
  },
  {
   "cell_type": "markdown",
   "id": "8f7c87f8",
   "metadata": {},
   "source": [
    "Function `Delta`: implements the derivation $\\Delta:A_\\infty\\rightarrow A_\\infty$, given by $\\Delta(T_{e,i})=T_{e,i+1}$.\n",
    "\n",
    "**Inputs:**\n",
    "\n",
    "- `f`: a polynomial in an \"affine jet ring\", a ring as in the output of `jet_ring`.\n",
    "\n",
    "**Output:** The polynomial $\\Delta(f)$ as an element of the same ring (the truncation level of the ring must be large enough)."
   ]
  },
  {
   "cell_type": "code",
   "execution_count": 10,
   "id": "ca6a17ea",
   "metadata": {},
   "outputs": [],
   "source": [
    "def Delta (f):\n",
    "    trun=truncation_order(f.parent());\n",
    "    nvar=f.parent().ngens()//trun\n",
    "    a=sum([sum([f.derivative(f.parent().gen(r*trun+i))*f.parent().gen(r*trun+i+1) for i in range(trun-1)]) for r in range(nvar)])\n",
    "    return a"
   ]
  },
  {
   "cell_type": "code",
   "execution_count": 11,
   "id": "4b5165e8",
   "metadata": {},
   "outputs": [
    {
     "name": "stdout",
     "output_type": "stream",
     "text": [
      "Defining x0, x1, x2, x3, x4, x5, y0, y1, y2, y3, y4, y5\n"
     ]
    },
    {
     "data": {
      "text/plain": [
       "3*y0^2*y1 + 2*x0*x1"
      ]
     },
     "execution_count": 11,
     "metadata": {},
     "output_type": "execute_result"
    }
   ],
   "source": [
    "A=jet_ring(QQ,['x','y'],[1,1],6,'invlex')\n",
    "A.inject_variables()\n",
    "Delta(x0^2+y0^3)"
   ]
  },
  {
   "cell_type": "markdown",
   "id": "45f71847",
   "metadata": {},
   "source": [
    "Function `Delta_it`: implements the iteration of the derivation $\\Delta:A_\\infty\\rightarrow A_\\infty$, given by $\\Delta(T_{e,i})=T_{e,i+1}$.\n",
    "\n",
    "**Inputs:**\n",
    "\n",
    "- `f`: a polynomial in an \"affine jet ring\", a ring as in the output of `jet_ring`.\n",
    "- `N`: a nonnegative integer number.\n",
    "\n",
    "**Output:** The polynomial $\\Delta^N(f)$ as an element of the same ring (the truncation level of the ring must be large enough)."
   ]
  },
  {
   "cell_type": "code",
   "execution_count": 12,
   "id": "6fa11100",
   "metadata": {},
   "outputs": [],
   "source": [
    "def Delta_it (f,N):\n",
    "    for i in range(N):\n",
    "        f=Delta(f);\n",
    "    return f"
   ]
  },
  {
   "cell_type": "code",
   "execution_count": 13,
   "id": "3f2a64ed",
   "metadata": {},
   "outputs": [
    {
     "name": "stdout",
     "output_type": "stream",
     "text": [
      "Defining x0, x1, x2, x3, x4, x5, y0, y1, y2, y3, y4, y5\n"
     ]
    },
    {
     "data": {
      "text/plain": [
       "3*y0^2*y3 + 18*y0*y1*y2 + 6*y1^3 + 2*x0*x3 + 6*x1*x2"
      ]
     },
     "execution_count": 13,
     "metadata": {},
     "output_type": "execute_result"
    }
   ],
   "source": [
    "A=jet_ring(QQ,['x','y'],[1,1],6,'invlex')\n",
    "A.inject_variables()\n",
    "Delta_it(x0^2+y0^3,3)"
   ]
  },
  {
   "cell_type": "markdown",
   "id": "e25c879a",
   "metadata": {},
   "source": [
    "Function `Delta_list`: returns a list with some iterations of the derivation $\\Delta:A_\\infty\\rightarrow A_\\infty$, given by $\\Delta(T_{e,i})=T_{e,i+1}$.\n",
    "\n",
    "**Inputs:**\n",
    "\n",
    "- `f`: a polynomial in an \"affine jet ring\", a ring as in the output of `jet_ring`.\n",
    "- `N`: a nonnegative integer number.\n",
    "\n",
    "**Output:** The list $[f,\\Delta(f),\\Delta^2(f),...,\\Delta^N(f)]$ of size $N+1$, where each polynomial is an element of the same ring as $f$ (the truncation level of the ring must be large enough)."
   ]
  },
  {
   "cell_type": "code",
   "execution_count": 14,
   "id": "5f248319",
   "metadata": {},
   "outputs": [],
   "source": [
    "def Delta_list (f,N):\n",
    "    l=[f];\n",
    "    for i in range(N):\n",
    "        l.append(Delta(l[-1]));\n",
    "    return l"
   ]
  },
  {
   "cell_type": "code",
   "execution_count": 15,
   "id": "5f3d00b6",
   "metadata": {},
   "outputs": [
    {
     "name": "stdout",
     "output_type": "stream",
     "text": [
      "Defining x0, x1, x2, x3, x4, x5, y0, y1, y2, y3, y4, y5\n"
     ]
    },
    {
     "data": {
      "text/plain": [
       "[y0^3 + x0^2,\n",
       " 3*y0^2*y1 + 2*x0*x1,\n",
       " 3*y0^2*y2 + 6*y0*y1^2 + 2*x0*x2 + 2*x1^2,\n",
       " 3*y0^2*y3 + 18*y0*y1*y2 + 6*y1^3 + 2*x0*x3 + 6*x1*x2]"
      ]
     },
     "execution_count": 15,
     "metadata": {},
     "output_type": "execute_result"
    }
   ],
   "source": [
    "A=jet_ring(QQ,['x','y'],[1,1],6,'invlex')\n",
    "A.inject_variables()\n",
    "Delta_list(x0^2+y0^3,3)"
   ]
  },
  {
   "cell_type": "markdown",
   "id": "b184e1ba",
   "metadata": {},
   "source": [
    "Function `Delta_ideal`: given an ideal, returns the corresponding truncated differential ideal up to a given order for the derivation $\\Delta:A_\\infty\\rightarrow A_\\infty$, given by $\\Delta(T_{e,i})=T_{e,i+1}$.\n",
    "\n",
    "**Inputs:**\n",
    "\n",
    "- `L`: a list of polynomials in an \"affine jet ring\", a ring as in the output of `jet_ring`.\n",
    "- `N`: a nonnegative integer number.\n",
    "\n",
    "**Output:** The ideal $\\langle f,\\Delta(f),\\Delta^2(f),...,\\Delta^N(f):f\\in L\\rangle$ of the same ring (the truncation level of the ring must be large enough)."
   ]
  },
  {
   "cell_type": "code",
   "execution_count": 16,
   "id": "0d282cac",
   "metadata": {},
   "outputs": [],
   "source": [
    "def Delta_ideal (L,N):\n",
    "    gen=[];\n",
    "    for r in L:\n",
    "        gen=gen+Delta_list(r,N);\n",
    "    Deltaideal=L[0].parent().ideal(gen);\n",
    "    return Deltaideal"
   ]
  },
  {
   "cell_type": "code",
   "execution_count": 17,
   "id": "5baa188c",
   "metadata": {},
   "outputs": [
    {
     "name": "stdout",
     "output_type": "stream",
     "text": [
      "Defining x0, x1, x2, x3, x4, x5, y0, y1, y2, y3, y4, y5\n"
     ]
    },
    {
     "data": {
      "text/plain": [
       "Ideal (y0^3 + x0^2, 3*y0^2*y1 + 2*x0*x1, 3*y0^2*y2 + 6*y0*y1^2 + 2*x0*x2 + 2*x1^2, 3*y0^2*y3 + 18*y0*y1*y2 + 6*y1^3 + 2*x0*x3 + 6*x1*x2, x0*y0, x0*y1 + x1*y0, x0*y2 + 2*x1*y1 + x2*y0, x0*y3 + 3*x1*y2 + 3*x2*y1 + x3*y0) of Multivariate Polynomial Ring in x0, x1, x2, x3, x4, x5, y0, y1, y2, y3, y4, y5 over Rational Field"
      ]
     },
     "execution_count": 17,
     "metadata": {},
     "output_type": "execute_result"
    }
   ],
   "source": [
    "A=jet_ring(QQ,['x','y'],[1,1],6,'invlex')\n",
    "A.inject_variables()\n",
    "Delta_ideal([x0^2+y0^3,x0*y0],3)"
   ]
  },
  {
   "cell_type": "markdown",
   "id": "665bb4fa",
   "metadata": {},
   "source": [
    "Function `deltilde`: implements the derivation $\\tilde{\\delta}_{\\infty}:A_\\infty\\rightarrow A_\\infty$, given by $\\tilde{\\delta}_{\\infty}(T_{e,i})=(i+1)T_{e,i+1}$.\n",
    "\n",
    "**Inputs:**\n",
    "\n",
    "- `f`: a polynomial in an \"affine jet ring\", a ring as in the output of `jet_ring`.\n",
    "\n",
    "**Output:** The polynomial $\\tilde{\\delta}_{\\infty}(f)$ as an element of the same ring (the truncation level of the ring must be large enough)."
   ]
  },
  {
   "cell_type": "code",
   "execution_count": 18,
   "id": "d91196ae",
   "metadata": {},
   "outputs": [],
   "source": [
    "def deltilde (f):\n",
    "    trun=truncation_order(f.parent());\n",
    "    nvar=f.parent().ngens()//trun\n",
    "    a=sum([sum([(i+1)*f.derivative(f.parent().gen(r*trun+i))*f.parent().gen(r*trun+i+1) for i in range(0,trun-1)]) for r in range(0,nvar)])\n",
    "    return a"
   ]
  },
  {
   "cell_type": "code",
   "execution_count": 19,
   "id": "c4111bd0",
   "metadata": {},
   "outputs": [
    {
     "name": "stdout",
     "output_type": "stream",
     "text": [
      "Defining x0, x1, x2, x3, x4, x5, y0, y1, y2, y3, y4, y5\n"
     ]
    },
    {
     "data": {
      "text/plain": [
       "3*y0^2*y1 + 2*x0*x1"
      ]
     },
     "execution_count": 19,
     "metadata": {},
     "output_type": "execute_result"
    }
   ],
   "source": [
    "A=jet_ring(QQ,['x','y'],[1,1],6,'invlex')\n",
    "A.inject_variables()\n",
    "deltilde(x0^2+y0^3)"
   ]
  },
  {
   "cell_type": "markdown",
   "id": "17671ea5",
   "metadata": {},
   "source": [
    "Function `deltilde_it`: implements the iteration of the derivation $\\tilde{\\delta}_{\\infty}:A_\\infty\\rightarrow A_\\infty$, given by $\\tilde{\\delta}_{\\infty}(T_{e,i})=(i+1)T_{e,i+1}$.\n",
    "\n",
    "**Inputs:**\n",
    "\n",
    "- `f`: a polynomial in an \"affine jet ring\", a ring as in the output of `jet_ring`.\n",
    "- `N`: a nonnegative integer number.\n",
    "\n",
    "**Output:** The polynomial $\\tilde{\\delta}_{\\infty}^N(f)$ as an element of the same ring (the truncation level of the ring must be large enough)."
   ]
  },
  {
   "cell_type": "code",
   "execution_count": 20,
   "id": "e28cd87d",
   "metadata": {},
   "outputs": [],
   "source": [
    "def deltilde_it (f,N):\n",
    "    for i in range(0,N):\n",
    "        f=deltilde(f);\n",
    "    return f"
   ]
  },
  {
   "cell_type": "code",
   "execution_count": 21,
   "id": "39a7fede",
   "metadata": {},
   "outputs": [
    {
     "name": "stdout",
     "output_type": "stream",
     "text": [
      "Defining x0, x1, x2, x3, x4, x5, y0, y1, y2, y3, y4, y5\n"
     ]
    },
    {
     "data": {
      "text/plain": [
       "18*y0^2*y3 + 36*y0*y1*y2 + 6*y1^3 + 12*x0*x3 + 12*x1*x2"
      ]
     },
     "execution_count": 21,
     "metadata": {},
     "output_type": "execute_result"
    }
   ],
   "source": [
    "A=jet_ring(QQ,['x','y'],[1,1],6,'invlex')\n",
    "A.inject_variables()\n",
    "deltilde_it(x0^2+y0^3,3)"
   ]
  },
  {
   "cell_type": "markdown",
   "id": "2b038a2a",
   "metadata": {},
   "source": [
    "Function `deltilde_list`: returns a list with some iterations of the derivation $\\tilde{\\delta}_{\\infty}:A_\\infty\\rightarrow A_\\infty$, given by $\\tilde{\\delta}_{\\infty}(T_{e,i})=(i+1)T_{e,i+1}$.\n",
    "\n",
    "**Inputs:**\n",
    "\n",
    "- `f`: a polynomial in an \"affine jet ring\", a ring as in the output of `jet_ring`.\n",
    "- `N`: a nonnegative integer number.\n",
    "\n",
    "**Output:** The list $[f,\\tilde{\\delta}_{\\infty}(f),\\tilde{\\delta}_{\\infty}^2(f),...,\\tilde{\\delta}_{\\infty}^N(f)]$ of size $N+1$, where each polynomial is an element of the same ring as $f$ (the truncation level of the ring must be large enough)."
   ]
  },
  {
   "cell_type": "code",
   "execution_count": 22,
   "id": "2ffb2eb8",
   "metadata": {},
   "outputs": [],
   "source": [
    "def deltilde_list (f,N):\n",
    "    l=[f];\n",
    "    for i in range(0,N):\n",
    "        l.append(deltilde(l[-1]));\n",
    "    return l"
   ]
  },
  {
   "cell_type": "code",
   "execution_count": 23,
   "id": "31599b5f",
   "metadata": {},
   "outputs": [
    {
     "name": "stdout",
     "output_type": "stream",
     "text": [
      "Defining x0, x1, x2, x3, x4, x5, y0, y1, y2, y3, y4, y5\n"
     ]
    },
    {
     "data": {
      "text/plain": [
       "[y0^3 + x0^2,\n",
       " 3*y0^2*y1 + 2*x0*x1,\n",
       " 6*y0^2*y2 + 6*y0*y1^2 + 4*x0*x2 + 2*x1^2,\n",
       " 18*y0^2*y3 + 36*y0*y1*y2 + 6*y1^3 + 12*x0*x3 + 12*x1*x2]"
      ]
     },
     "execution_count": 23,
     "metadata": {},
     "output_type": "execute_result"
    }
   ],
   "source": [
    "A=jet_ring(QQ,['x','y'],[1,1],6,'invlex')\n",
    "A.inject_variables()\n",
    "deltilde_list(x0^2+y0^3,3)"
   ]
  },
  {
   "cell_type": "markdown",
   "id": "88c6662d",
   "metadata": {},
   "source": [
    "Function `deltilde_ideal`: given an ideal, returns the corresponding truncated differential ideal up to a given order for the derivation $\\tilde{\\delta}_{\\infty}:A_\\infty\\rightarrow A_\\infty$, given by $\\tilde{\\delta}_{\\infty}(T_{e,i})=(i+1)T_{e,i+1}$.\n",
    "\n",
    "**Inputs:**\n",
    "\n",
    "- `L`: a list of polynomials in an \"affine jet ring\", a ring as in the output of `jet_ring`.\n",
    "- `N`: a nonnegative integer number.\n",
    "\n",
    "**Output:** The ideal $\\langle f,\\tilde{\\delta}_{\\infty}(f),\\tilde{\\delta}_{\\infty}^2(f),...,\\tilde{\\delta}_{\\infty}^N(f):f\\in L\\rangle$ of the same ring (the truncation level of the ring must be large enough)."
   ]
  },
  {
   "cell_type": "code",
   "execution_count": 24,
   "id": "3b288088",
   "metadata": {},
   "outputs": [],
   "source": [
    "def deltilde_ideal (L,N):\n",
    "    gen=[];\n",
    "    for r in L:\n",
    "        gen=gen+deltilde_list(r,N);\n",
    "    deltildeideal=L[0].parent().ideal(gen);\n",
    "    return deltildeideal"
   ]
  },
  {
   "cell_type": "code",
   "execution_count": 25,
   "id": "0daa0c70",
   "metadata": {},
   "outputs": [
    {
     "name": "stdout",
     "output_type": "stream",
     "text": [
      "Defining x0, x1, x2, x3, x4, x5, y0, y1, y2, y3, y4, y5\n"
     ]
    },
    {
     "data": {
      "text/plain": [
       "Ideal (y0^3 + x0^2, 3*y0^2*y1 + 2*x0*x1, 6*y0^2*y2 + 6*y0*y1^2 + 4*x0*x2 + 2*x1^2, 18*y0^2*y3 + 36*y0*y1*y2 + 6*y1^3 + 12*x0*x3 + 12*x1*x2, x0*y0, x0*y1 + x1*y0, 2*x0*y2 + 2*x1*y1 + 2*x2*y0, 6*x0*y3 + 6*x1*y2 + 6*x2*y1 + 6*x3*y0) of Multivariate Polynomial Ring in x0, x1, x2, x3, x4, x5, y0, y1, y2, y3, y4, y5 over Rational Field"
      ]
     },
     "execution_count": 25,
     "metadata": {},
     "output_type": "execute_result"
    }
   ],
   "source": [
    "A=jet_ring(QQ,['x','y'],[1,1],6,'invlex')\n",
    "A.inject_variables()\n",
    "deltilde_ideal([x0^2+y0^3,x0*y0],3)"
   ]
  },
  {
   "cell_type": "markdown",
   "id": "b108380f",
   "metadata": {},
   "source": [
    "Function `deltilde_corr_list`: returns a list with some iterations of the derivation $\\tilde{\\delta}_{\\infty}:A_\\infty\\rightarrow A_\\infty$, given by $\\tilde{\\delta}_{\\infty}(T_{e,i})=(i+1)T_{e,i+1}$ with the correction factor in the denominator. If $char(k)=0$, we obtain the same result than using Hasse-Schmidt derivations, but usually faster.\n",
    "\n",
    "**Inputs:**\n",
    "\n",
    "- `f`: a polynomial in an \"affine jet ring\", a ring as in the output of `jet_ring`.\n",
    "- `N`: a nonnegative integer number.\n",
    "\n",
    "**Output:** The list $[f,\\tilde{\\delta}_{\\infty}(f),\\frac{\\tilde{\\delta}_{\\infty}^2(f)}{2!},...,\\frac{\\tilde{\\delta}_{\\infty}^N(f)}{N!}]$ of size $N+1$, where each polynomial is an element of the same ring as $f$ (the truncation level of the ring must be large enough)."
   ]
  },
  {
   "cell_type": "code",
   "execution_count": 26,
   "id": "2eaa3215",
   "metadata": {
    "scrolled": true
   },
   "outputs": [],
   "source": [
    "def deltilde_corr_list (f,N):\n",
    "    l=[f];\n",
    "    for i in range(0,N):\n",
    "        l.append(deltilde(l[-1])/(i+1));\n",
    "    return l"
   ]
  },
  {
   "cell_type": "code",
   "execution_count": 27,
   "id": "d1ea2191",
   "metadata": {},
   "outputs": [
    {
     "name": "stdout",
     "output_type": "stream",
     "text": [
      "Defining x0, x1, x2, x3, x4, x5, y0, y1, y2, y3, y4, y5\n"
     ]
    },
    {
     "data": {
      "text/plain": [
       "[y0^3 + x0^2,\n",
       " 3*y0^2*y1 + 2*x0*x1,\n",
       " 3*y0^2*y2 + 3*y0*y1^2 + 2*x0*x2 + x1^2,\n",
       " 3*y0^2*y3 + 6*y0*y1*y2 + y1^3 + 2*x0*x3 + 2*x1*x2]"
      ]
     },
     "execution_count": 27,
     "metadata": {},
     "output_type": "execute_result"
    }
   ],
   "source": [
    "A=jet_ring(QQ,['x','y'],[1,1],6,'invlex')\n",
    "A.inject_variables()\n",
    "deltilde_corr_list(x0^2+y0^3,3)"
   ]
  },
  {
   "cell_type": "markdown",
   "id": "40881dc5",
   "metadata": {},
   "source": [
    "Function `deltilde_corr_ideal`: given an ideal, returns the corresponding truncated differential ideal up to a given order for the derivation $\\tilde{\\delta}_{\\infty}:A_\\infty\\rightarrow A_\\infty$, given by $\\tilde{\\delta}_{\\infty}(T_{e,i})=(i+1)T_{e,i+1}$ with the correction factor in the denominator. If $char(k)=0$, we obtain the same result than using Hasse-Schmidt derivations, but usually faster.\n",
    "\n",
    "**Inputs:**\n",
    "\n",
    "- `L`: a list of polynomials in an \"affine jet ring\", a ring as in the output of `jet_ring`.\n",
    "- `N`: a nonnegative integer number.\n",
    "\n",
    "**Output:** The ideal $\\langle f,\\tilde{\\delta}_{\\infty}(f),\\frac{\\tilde{\\delta}_{\\infty}^2(f)}{2!},...,\\frac{\\tilde{\\delta}_{\\infty}^N(f)}{N!}:f\\in L\\rangle$ of the same ring (the truncation level of the ring must be large enough)."
   ]
  },
  {
   "cell_type": "code",
   "execution_count": 28,
   "id": "b567a8d5",
   "metadata": {},
   "outputs": [],
   "source": [
    "def deltilde_corr_ideal (L,N):\n",
    "    gen=[];\n",
    "    for r in L:\n",
    "        gen=gen+deltilde_corr_list(r,N);\n",
    "    deltildecorrideal=L[0].parent().ideal(gen);\n",
    "    return deltildecorrideal"
   ]
  },
  {
   "cell_type": "code",
   "execution_count": 29,
   "id": "30f0198e",
   "metadata": {},
   "outputs": [
    {
     "name": "stdout",
     "output_type": "stream",
     "text": [
      "Defining x0, x1, x2, x3, x4, x5, y0, y1, y2, y3, y4, y5\n"
     ]
    },
    {
     "data": {
      "text/plain": [
       "Ideal (y0^3 + x0^2, 3*y0^2*y1 + 2*x0*x1, 3*y0^2*y2 + 3*y0*y1^2 + 2*x0*x2 + x1^2, 3*y0^2*y3 + 6*y0*y1*y2 + y1^3 + 2*x0*x3 + 2*x1*x2, x0*y0, x0*y1 + x1*y0, x0*y2 + x1*y1 + x2*y0, x0*y3 + x1*y2 + x2*y1 + x3*y0) of Multivariate Polynomial Ring in x0, x1, x2, x3, x4, x5, y0, y1, y2, y3, y4, y5 over Rational Field"
      ]
     },
     "execution_count": 29,
     "metadata": {},
     "output_type": "execute_result"
    }
   ],
   "source": [
    "A=jet_ring(QQ,['x','y'],[1,1],6,'invlex')\n",
    "A.inject_variables()\n",
    "deltilde_corr_ideal([x0^2+y0^3,x0*y0],3)"
   ]
  },
  {
   "cell_type": "markdown",
   "id": "622ecb53",
   "metadata": {},
   "source": [
    "Function `change_var_HS_to_diff`: given the section ring of a jet scheme of some affine space, performs the automorphism transforming the ideal obtained via Hasse-Schmidt derivations into the ideal obtained using $\\Delta$.\n",
    "\n",
    "**Inputs:**\n",
    "\n",
    "- `R`: a polynomial ring, the section ring of the jet scheme of some level of an affine space (constructed for example using `jet_ring`).\n",
    "\n",
    "**Output:** The automorphism $\\phi$ of `R` such that $\\phi(\\langle f_0,f_1,f_2,...,f_N:f\\in L\\rangle)=\\langle f,\\Delta(f),\\Delta^2(f),...,\\Delta^N(f):f\\in L\\rangle$."
   ]
  },
  {
   "cell_type": "code",
   "execution_count": 30,
   "id": "71776f07",
   "metadata": {},
   "outputs": [],
   "source": [
    "def change_var_HS_to_diff (R):\n",
    "    trun=truncation_order(R);\n",
    "    nvar=R.ngens()//trun;\n",
    "    phi=R.hom([R.gen(r*trun+i)/factorial(i) for r in range(nvar) for i in range(trun)]);\n",
    "    return phi"
   ]
  },
  {
   "cell_type": "code",
   "execution_count": 31,
   "id": "2533495f",
   "metadata": {},
   "outputs": [
    {
     "data": {
      "text/plain": [
       "Ring endomorphism of Multivariate Polynomial Ring in x0, x1, x2, x3, x4, x5, y0, y1, y2, y3, y4, y5 over Rational Field\n",
       "  Defn: x0 |--> x0\n",
       "        x1 |--> x1\n",
       "        x2 |--> 1/2*x2\n",
       "        x3 |--> 1/6*x3\n",
       "        x4 |--> 1/24*x4\n",
       "        x5 |--> 1/120*x5\n",
       "        y0 |--> y0\n",
       "        y1 |--> y1\n",
       "        y2 |--> 1/2*y2\n",
       "        y3 |--> 1/6*y3\n",
       "        y4 |--> 1/24*y4\n",
       "        y5 |--> 1/120*y5"
      ]
     },
     "execution_count": 31,
     "metadata": {},
     "output_type": "execute_result"
    }
   ],
   "source": [
    "A=jet_ring(QQ,['x','y'],[1,1],6,'invlex')\n",
    "change_var_HS_to_diff(A)"
   ]
  },
  {
   "cell_type": "markdown",
   "id": "85a52de2",
   "metadata": {},
   "source": [
    "Function `change_var_diff_to_HS`: given the section ring of a jet scheme of some affine space, performs the automorphism transforming the ideal obtained via the derivation $\\Delta$ into the ideal obtained using Hasse-Schmidt derivations.\n",
    "\n",
    "**Inputs:**\n",
    "\n",
    "- `R`: a polynomial ring, the section ring of the jet scheme of some level of an affine space (constructed for example using `jet_ring`).\n",
    "\n",
    "**Output:** The automorphism $\\phi$ of `R` such that $\\phi(\\langle f,\\Delta(f),\\Delta^2(f),...,\\Delta^N(f):f\\in L\\rangle)=\\langle f_0,f_1,f_2,...,f_N:f\\in L\\rangle$."
   ]
  },
  {
   "cell_type": "code",
   "execution_count": 32,
   "id": "2598cdb3",
   "metadata": {},
   "outputs": [],
   "source": [
    "def change_var_diff_to_HS (R):\n",
    "    trun=truncation_order(R);\n",
    "    nvar=R.ngens()//trun;\n",
    "    phi=R.hom([R.gen(r*trun+i)*factorial(i) for r in range(nvar) for i in range(trun)]);\n",
    "    return phi"
   ]
  },
  {
   "cell_type": "code",
   "execution_count": 33,
   "id": "82d4cced",
   "metadata": {},
   "outputs": [
    {
     "data": {
      "text/plain": [
       "Ring endomorphism of Multivariate Polynomial Ring in x0, x1, x2, x3, x4, x5, y0, y1, y2, y3, y4, y5 over Rational Field\n",
       "  Defn: x0 |--> x0\n",
       "        x1 |--> x1\n",
       "        x2 |--> 2*x2\n",
       "        x3 |--> 6*x3\n",
       "        x4 |--> 24*x4\n",
       "        x5 |--> 120*x5\n",
       "        y0 |--> y0\n",
       "        y1 |--> y1\n",
       "        y2 |--> 2*y2\n",
       "        y3 |--> 6*y3\n",
       "        y4 |--> 24*y4\n",
       "        y5 |--> 120*y5"
      ]
     },
     "execution_count": 33,
     "metadata": {},
     "output_type": "execute_result"
    }
   ],
   "source": [
    "A=jet_ring(QQ,['x','y'],[1,1],6,'invlex')\n",
    "change_var_diff_to_HS(A)"
   ]
  },
  {
   "cell_type": "markdown",
   "id": "4b9f52f2",
   "metadata": {},
   "source": [
    "### Embedded jet rings"
   ]
  },
  {
   "cell_type": "markdown",
   "id": "8e34ec1c",
   "metadata": {},
   "source": [
    "Function `jet_ring_HS`: given a polynomial ring and an ideal of this ring defining a variety $V$, it computes the section ring of the jet scheme of a given level `trun`=$m+1$ of the corresponding affine scheme and the ideal defining $\\mathcal{L}_{m}(V)$ as a closed subscheme, using Hasse-Schmidt derivations (valid in arbitrary characteristic).\n",
    "\n",
    "**Inputs:**\n",
    "\n",
    "- `base_affine`: a polynomial ring, the section ring of the base affine scheme.\n",
    "- `base_ideal`: an ideal of `base_affine` defining the base variety $V$.\n",
    "- `trun`: a positive integer , the level $m$ of the jet scheme plus 1.\n",
    "\n",
    "**Output:** A list containing:\n",
    "- In the first position the (polynomial) section ring of the jet scheme of level `trun`-1 of the affine scheme corresponding to `base_affine`.\n",
    "- In the second position the ideal of the preceding polynomial ideal defining $\\mathcal{L}_{m}(V)$."
   ]
  },
  {
   "cell_type": "code",
   "execution_count": 34,
   "id": "536cddff",
   "metadata": {},
   "outputs": [],
   "source": [
    "def jet_ring_HS(base_affine, base_ideal, trun):\n",
    "    var=list(base_affine.variable_names());\n",
    "    R=jet_ring(base_affine.base_ring(),var,[1 for r in var],trun,base_affine.term_order());\n",
    "    inj=base_affine.hom([R.gen(i*trun) for i in range(base_affine.ngens())]);\n",
    "    gen_base_ideal=base_ideal.gens();\n",
    "    inj_base_ideal=[inj(g) for g in gen_base_ideal];\n",
    "    HSideal_gen=HasseSchmidt(inj_base_ideal,trun-1);\n",
    "    HSideal=HS_to_ideal(HSideal_gen,trun-1);\n",
    "    return [R,HSideal]"
   ]
  },
  {
   "cell_type": "code",
   "execution_count": 35,
   "id": "32fe28d5",
   "metadata": {},
   "outputs": [
    {
     "name": "stdout",
     "output_type": "stream",
     "text": [
      "Defining x, y, z\n"
     ]
    },
    {
     "data": {
      "text/plain": [
       "[Multivariate Polynomial Ring in x0, x1, x2, y0, y1, y2, z0, z1, z2 over Rational Field,\n",
       " Ideal (-z0^3 + x0*y0, -3*z0^2*z1 + x1*y0 + x0*y1, -3*z0*z1^2 - 3*z0^2*z2 + x2*y0 + x1*y1 + x0*y2) of Multivariate Polynomial Ring in x0, x1, x2, y0, y1, y2, z0, z1, z2 over Rational Field]"
      ]
     },
     "execution_count": 35,
     "metadata": {},
     "output_type": "execute_result"
    }
   ],
   "source": [
    "base_affine=PolynomialRing(QQ,['x','y','z'],order='degrevlex')\n",
    "base_affine.inject_variables()\n",
    "base_ideal=base_affine.ideal([x*y-z^3])\n",
    "jet_ring_HS(base_affine, base_ideal, 3)"
   ]
  },
  {
   "cell_type": "markdown",
   "id": "4de4361e",
   "metadata": {},
   "source": [
    "Function `jet_ring_Delta`: given a polynomial ring and an ideal of this ring defining a variety $V$, it computes the section ring of the jet scheme of a given level `trun`=$m+1$ of the corresponding affine scheme and the ideal defining $\\mathcal{L}_{m}(V)$ as a closed subscheme, using the derivation $\\Delta$ (valid in characteristic 0).\n",
    "\n",
    "**Inputs:**\n",
    "\n",
    "- `base_affine`: a polynomial ring, the section ring of the base affine scheme.\n",
    "- `base_ideal`: an ideal of `base_affine` defining the base variety $V$.\n",
    "- `trun`: a positive integer , the level $m$ of the jet scheme plus 1.\n",
    "\n",
    "**Output:** A list containing:\n",
    "- In the first position the (polynomial) section ring of the jet scheme of level `trun`-1 of the affine scheme corresponding to `base_affine`.\n",
    "- In the second position the ideal of the preceding polynomial ideal defining $\\mathcal{L}_{m}(V)$."
   ]
  },
  {
   "cell_type": "code",
   "execution_count": 36,
   "id": "682da2ae",
   "metadata": {},
   "outputs": [],
   "source": [
    "def jet_ring_Delta(base_affine, base_ideal, trun):\n",
    "    var=list(base_affine.variable_names());\n",
    "    R=jet_ring(base_affine.base_ring(),var,[1 for r in var],trun,base_affine.term_order());\n",
    "    inj=base_affine.hom([R.gen(i*trun) for i in range(base_affine.ngens())]);\n",
    "    gen_base_ideal=base_ideal.gens();\n",
    "    inj_base_ideal=[inj(g) for g in gen_base_ideal];\n",
    "    Deltaideal=Delta_ideal(inj_base_ideal,trun-1);\n",
    "    return [R,Deltaideal]"
   ]
  },
  {
   "cell_type": "code",
   "execution_count": 37,
   "id": "0756ba22",
   "metadata": {},
   "outputs": [
    {
     "name": "stdout",
     "output_type": "stream",
     "text": [
      "Defining x, y, z\n"
     ]
    },
    {
     "data": {
      "text/plain": [
       "[Multivariate Polynomial Ring in x0, x1, x2, y0, y1, y2, z0, z1, z2 over Rational Field,\n",
       " Ideal (-z0^3 + x0*y0, -3*z0^2*z1 + x1*y0 + x0*y1, -6*z0*z1^2 - 3*z0^2*z2 + x2*y0 + 2*x1*y1 + x0*y2) of Multivariate Polynomial Ring in x0, x1, x2, y0, y1, y2, z0, z1, z2 over Rational Field]"
      ]
     },
     "execution_count": 37,
     "metadata": {},
     "output_type": "execute_result"
    }
   ],
   "source": [
    "base_affine=PolynomialRing(QQ,['x','y','z'],order='degrevlex')\n",
    "base_affine.inject_variables()\n",
    "base_ideal=base_affine.ideal([x*y-z^3])\n",
    "jet_ring_Delta(base_affine, base_ideal, 3)"
   ]
  },
  {
   "cell_type": "markdown",
   "id": "6bb3a6db",
   "metadata": {},
   "source": [
    "Function `jet_ring_deltatilde`: given a polynomial ring and an ideal of this ring defining a variety $V$, it computes the section ring of the jet scheme of a given level `trun`=$m+1$ of the corresponding affine scheme and the ideal defining $\\mathcal{L}_{m}(V)$ as a closed subscheme, using the derivation $\\tilde{\\delta}_{\\infty}$ (valid in characteristic 0).\n",
    "\n",
    "**Inputs:**\n",
    "\n",
    "- `base_affine`: a polynomial ring, the section ring of the base affine scheme.\n",
    "- `base_ideal`: an ideal of `base_affine` defining the base variety $V$.\n",
    "- `trun`: a positive integer , the level $m$ of the jet scheme plus 1.\n",
    "\n",
    "**Output:** A list containing:\n",
    "- In the first position the (polynomial) section ring of the jet scheme of level `trun`-1 of the affine scheme corresponding to `base_affine`.\n",
    "- In the second position the ideal of the preceding polynomial ideal defining $\\mathcal{L}_{m}(V)$."
   ]
  },
  {
   "cell_type": "code",
   "execution_count": 38,
   "id": "6103793e",
   "metadata": {},
   "outputs": [],
   "source": [
    "def jet_ring_deltatilde(base_affine, base_ideal, trun):\n",
    "    var=list(base_affine.variable_names());\n",
    "    R=jet_ring(base_affine.base_ring(),var,[1 for r in var],trun,base_affine.term_order());\n",
    "    inj=base_affine.hom([R.gen(i*trun) for i in range(base_affine.ngens())]);\n",
    "    gen_base_ideal=base_ideal.gens();\n",
    "    inj_base_ideal=[inj(g) for g in gen_base_ideal];\n",
    "    deltatildeideal=deltilde_ideal(inj_base_ideal,trun-1);\n",
    "    return [R,deltatildeideal]"
   ]
  },
  {
   "cell_type": "code",
   "execution_count": 39,
   "id": "24b0940d",
   "metadata": {},
   "outputs": [
    {
     "name": "stdout",
     "output_type": "stream",
     "text": [
      "Defining x, y, z\n"
     ]
    },
    {
     "data": {
      "text/plain": [
       "[Multivariate Polynomial Ring in x0, x1, x2, y0, y1, y2, z0, z1, z2 over Rational Field,\n",
       " Ideal (-z0^3 + x0*y0, -3*z0^2*z1 + x1*y0 + x0*y1, -6*z0*z1^2 - 6*z0^2*z2 + 2*x2*y0 + 2*x1*y1 + 2*x0*y2) of Multivariate Polynomial Ring in x0, x1, x2, y0, y1, y2, z0, z1, z2 over Rational Field]"
      ]
     },
     "execution_count": 39,
     "metadata": {},
     "output_type": "execute_result"
    }
   ],
   "source": [
    "base_affine=PolynomialRing(QQ,['x','y','z'],order='degrevlex')\n",
    "base_affine.inject_variables()\n",
    "base_ideal=base_affine.ideal([x*y-z^3])\n",
    "jet_ring_deltatilde(base_affine, base_ideal, 3)"
   ]
  },
  {
   "cell_type": "markdown",
   "id": "2c52378a",
   "metadata": {},
   "source": [
    "Function `jet_ring_deltatilde_corr`: given a polynomial ring and an ideal of this ring defining a variety $V$, it computes the section ring of the jet scheme of a given level `trun`=$m+1$ of the corresponding affine scheme and the ideal defining $\\mathcal{L}_{m}(V)$ as a closed subscheme, using the derivation $\\tilde{\\delta}_{\\infty}$ (valid in characteristic 0) with the correction factor in the denominator. If $char(k)=0$, we obtain the same result than using Hasse-Schmidt derivations, but usually faster.\n",
    "\n",
    "**Inputs:**\n",
    "\n",
    "- `base_affine`: a polynomial ring, the section ring of the base affine scheme.\n",
    "- `base_ideal`: an ideal of `base_affine` defining the base variety $V$.\n",
    "- `trun`: a positive integer , the level $m$ of the jet scheme plus 1.\n",
    "\n",
    "**Output:** A list containing:\n",
    "- In the first position the (polynomial) section ring of the jet scheme of level `trun`-1 of the affine scheme corresponding to `base_affine`.\n",
    "- In the second position the ideal of the preceding polynomial ideal defining $\\mathcal{L}_{m}(V)$."
   ]
  },
  {
   "cell_type": "code",
   "execution_count": 40,
   "id": "c70988b9",
   "metadata": {},
   "outputs": [],
   "source": [
    "def jet_ring_deltatilde_corr(base_affine, base_ideal, trun): \n",
    "    var=list(base_affine.variable_names());\n",
    "    R=jet_ring(base_affine.base_ring(),var,[1 for r in var],trun,base_affine.term_order());\n",
    "    inj=base_affine.hom([R.gen(i*trun) for i in range(base_affine.ngens())]);\n",
    "    gen_base_ideal=base_ideal.gens();\n",
    "    inj_base_ideal=[inj(g) for g in gen_base_ideal];\n",
    "    deltatildecorrideal=deltilde_corr_ideal(inj_base_ideal,trun-1);\n",
    "    return [R,deltatildecorrideal]"
   ]
  },
  {
   "cell_type": "code",
   "execution_count": 41,
   "id": "3cde16b3",
   "metadata": {},
   "outputs": [
    {
     "name": "stdout",
     "output_type": "stream",
     "text": [
      "Defining x, y, z\n"
     ]
    },
    {
     "data": {
      "text/plain": [
       "[Multivariate Polynomial Ring in x0, x1, x2, y0, y1, y2, z0, z1, z2 over Rational Field,\n",
       " Ideal (-z0^3 + x0*y0, -3*z0^2*z1 + x1*y0 + x0*y1, -3*z0*z1^2 - 3*z0^2*z2 + x2*y0 + x1*y1 + x0*y2) of Multivariate Polynomial Ring in x0, x1, x2, y0, y1, y2, z0, z1, z2 over Rational Field]"
      ]
     },
     "execution_count": 41,
     "metadata": {},
     "output_type": "execute_result"
    }
   ],
   "source": [
    "base_affine=PolynomialRing(QQ,['x','y','z'],order='degrevlex')\n",
    "base_affine.inject_variables()\n",
    "base_ideal=base_affine.ideal([x*y-z^3])\n",
    "jet_ring_deltatilde_corr(base_affine, base_ideal, 3)"
   ]
  },
  {
   "cell_type": "markdown",
   "id": "93c92e63",
   "metadata": {},
   "source": [
    "Function `base_ring_inclusion_jet_ring`: given the section ring $A$ of a base affine space and the section ring $A_m$ of its jet scheme of some level, it constructs the inclusion morphism $A\\rightarrow A_m$.\n",
    "\n",
    "**Inputs:**\n",
    "\n",
    "- `base_affine`: a polynomial ring, the section ring $A$ of the base affine space.\n",
    "- `R`: a polynomial ring, the section ring $A_m$ of the jet scheme of some level of the affine space corresponding to `base_affine`. It must be of the form of the rings contructed using `jet_ring`.\n",
    "\n",
    "**Output:** The inclusion morphism $A\\rightarrow A_m$."
   ]
  },
  {
   "cell_type": "code",
   "execution_count": 42,
   "id": "88345774",
   "metadata": {},
   "outputs": [],
   "source": [
    "def base_ring_inclusion_jet_ring(base_affine,R):\n",
    "    trun=truncation_order(R);\n",
    "    phi=base_affine.hom([R.gen(trun*i) for i in range(base_affine.ngens())])\n",
    "    return phi"
   ]
  },
  {
   "cell_type": "code",
   "execution_count": 43,
   "id": "8bc57817",
   "metadata": {},
   "outputs": [
    {
     "name": "stdout",
     "output_type": "stream",
     "text": [
      "Defining x, y, z\n"
     ]
    },
    {
     "data": {
      "text/plain": [
       "Ring morphism:\n",
       "  From: Multivariate Polynomial Ring in x, y, z over Rational Field\n",
       "  To:   Multivariate Polynomial Ring in x0, x1, x2, y0, y1, y2, z0, z1, z2 over Rational Field\n",
       "  Defn: x |--> x0\n",
       "        y |--> y0\n",
       "        z |--> z0"
      ]
     },
     "execution_count": 43,
     "metadata": {},
     "output_type": "execute_result"
    }
   ],
   "source": [
    "base_affine=PolynomialRing(QQ,['x','y','z'],order='degrevlex')\n",
    "base_affine.inject_variables()\n",
    "base_ideal=base_affine.ideal([x*y-z^3])\n",
    "A2=jet_ring_HS(base_affine, base_ideal, 3)[0]#We only keep the ring, not the ideal\n",
    "base_ring_inclusion_jet_ring(base_affine,A2)"
   ]
  },
  {
   "cell_type": "markdown",
   "id": "33307e89",
   "metadata": {},
   "source": [
    "Function `jet_rings_inclusion`: given the section rings $A_n$ and $A_m$ of the jet schemes of level $n$ and $m$ respectively ($n<m$) of an affine space, it constructs the inclusion morphism $A_n\\rightarrow A_m$.\n",
    "\n",
    "**Inputs:**\n",
    "\n",
    "- `small_jet_ring`: a polynomial ring, the section ring $A_n$ of the base affine space. It must be of the form of the rings contructed using `jet_ring`.\n",
    "- `big_jet_ring`: a polynomial ring, the section ring $A_m$ of the base affine space. It must be of the form of the rings contructed using `jet_ring`.\n",
    "\n",
    "\n",
    "**Output:** The inclusion morphism $A_n\\rightarrow A_m$."
   ]
  },
  {
   "cell_type": "code",
   "execution_count": 44,
   "id": "e8bb07ad",
   "metadata": {},
   "outputs": [],
   "source": [
    "def jet_rings_inclusion(small_jet_ring,big_jet_ring):\n",
    "    small_trun=truncation_order(small_jet_ring);\n",
    "    big_trun=truncation_order(big_jet_ring);\n",
    "    nvar=small_jet_ring.ngens()//small_trun;\n",
    "    inj_images=[];\n",
    "    for r in range(nvar):\n",
    "        inj_images.extend([big_jet_ring.gen(r*big_trun+i) for i in range(small_trun)]);\n",
    "    jet_inj=small_jet_ring.hom(inj_images);\n",
    "    return jet_inj"
   ]
  },
  {
   "cell_type": "code",
   "execution_count": 45,
   "id": "89656929",
   "metadata": {},
   "outputs": [
    {
     "name": "stdout",
     "output_type": "stream",
     "text": [
      "Defining x, y, z\n"
     ]
    },
    {
     "data": {
      "text/plain": [
       "Ring morphism:\n",
       "  From: Multivariate Polynomial Ring in x0, x1, x2, y0, y1, y2, z0, z1, z2 over Rational Field\n",
       "  To:   Multivariate Polynomial Ring in x0, x1, x2, x3, y0, y1, y2, y3, z0, z1, z2, z3 over Rational Field\n",
       "  Defn: x0 |--> x0\n",
       "        x1 |--> x1\n",
       "        x2 |--> x2\n",
       "        y0 |--> y0\n",
       "        y1 |--> y1\n",
       "        y2 |--> y2\n",
       "        z0 |--> z0\n",
       "        z1 |--> z1\n",
       "        z2 |--> z2"
      ]
     },
     "execution_count": 45,
     "metadata": {},
     "output_type": "execute_result"
    }
   ],
   "source": [
    "base_affine=PolynomialRing(QQ,['x','y','z'],order='degrevlex')\n",
    "base_affine.inject_variables()\n",
    "base_ideal=base_affine.ideal([x*y-z^3])\n",
    "A2=jet_ring_HS(base_affine, base_ideal, 3)[0]#We only keep the ring, not the ideal\n",
    "A3=jet_ring_HS(base_affine, base_ideal, 4)[0]#We only keep the ring, not the ideal\n",
    "jet_rings_inclusion(A2,A3)"
   ]
  },
  {
   "cell_type": "markdown",
   "id": "103501ef",
   "metadata": {},
   "source": [
    "## Algorithms for computing the general component of jet schemes"
   ]
  },
  {
   "cell_type": "markdown",
   "id": "c3e4a46c",
   "metadata": {},
   "source": [
    "**Algorithm 1**\n",
    "\n",
    "Function `general_component_saturation`: given a polynomial ring and an ideal of this ring defining a variety $V$, it computes the ideal $\\mathcal{N}_N(V)$ defining the general component of the jet scheme of level $N$ of $V$.\n",
    "\n",
    "**Inputs:**\n",
    "\n",
    "- `base_affine`: a polynomial ring, the section ring of the base affine scheme.\n",
    "- `base_ideal`: an ideal of `base_affine` defining the base variety $V$.\n",
    "- `N`: a positive integer , the level of the jet scheme.\n",
    "\n",
    "**Output:** The ideal $\\mathcal{N}_N(V)$ defining the general component of $\\mathcal{L}_{N}(V)$."
   ]
  },
  {
   "cell_type": "code",
   "execution_count": 46,
   "id": "91fb13ac",
   "metadata": {},
   "outputs": [],
   "source": [
    "def general_component_saturation(base_affine,base_ideal,N):\n",
    "    # We construct the affine variety, compute the Jacobian ideal and choose the element H for the saturation\n",
    "    affine_space=AffineSpace(base_affine);\n",
    "    variety=affine_space.subscheme(base_ideal);\n",
    "    jac_ideal=variety.Jacobian();\n",
    "    jac_generators=jac_ideal.gens();\n",
    "    for g in jac_generators:\n",
    "        if base_ideal.reduce(g)!=0:\n",
    "            H=g;\n",
    "            break\n",
    "    # We construct the jet ring and the ideal of Hasse-Schmidt derivatives and inject the chosen H\n",
    "    [jetring,ideal_HS]=jet_ring_HS(base_affine, base_ideal, N+1);\n",
    "    base_inj_jet=base_ring_inclusion_jet_ring(base_affine,jetring);\n",
    "    H_jet=base_inj_jet(H);\n",
    "    # We extend the ring for the computation of the saturation as an elimination ideal\n",
    "    v=list(jetring.variable_names());\n",
    "    v.append('t');\n",
    "    R1=PolynomialRing(jetring.base_ring(), v, order=jetring.term_order());\n",
    "    # We define the inclusion morphism from jetring in R1 and compute the extension of the ideal\n",
    "    inj_extension=jetring.hom(list(R1.gens())[:-1]);\n",
    "    ideal_HS_extension=inj_extension(ideal_HS);\n",
    "    # We construct the aimed ideal and perform the elimination\n",
    "    sat_element=R1.ideal([1-inj_extension(H_jet)*R1.gen(R1.ngens()-1)]);\n",
    "    sat_ideal=ideal_HS_extension+sat_element;\n",
    "    elim_ideal=sat_ideal.elimination_ideal([R1.gen(R1.ngens()-1)]);\n",
    "    # We change the resulting ideal to the original ring\n",
    "    contraction_morph=R1.hom(list(jetring.gens())+[0]);\n",
    "    saturation=contraction_morph(elim_ideal);\n",
    "    return saturation"
   ]
  },
  {
   "cell_type": "markdown",
   "id": "bc34a7fd",
   "metadata": {},
   "source": [
    "**Algorithm 2**\n",
    "\n",
    "Function `general_component_birational`: given a smooth birational model of a variety $V$, it computes the ideal $\\mathcal{N}_N(V)$ defining the general component of the jet scheme of level $N$ of $V$.\n",
    "\n",
    "**Inputs:**\n",
    "\n",
    "- `base_affine`: a polynomial ring, the section ring of the base affine scheme.\n",
    "- `birring`: a polynomial ring, the section ring of the affine scheme which the smooth birational model is a closed subscheme of.\n",
    "- `birideal`: a list of elements of `birring` which generate the ideal defining the smooth birational model.\n",
    "- `birimage`: a list of elements of `birring` which contain the images of the variables in `base_affine` via the birational morphism.\n",
    "- `N`: a positive integer , the level of the jet scheme.\n",
    "\n",
    "**Output:** The ideal $\\mathcal{N}_N(V)$ defining the general component of $\\mathcal{L}_{N}(V)$."
   ]
  },
  {
   "cell_type": "code",
   "execution_count": 47,
   "id": "7e9611a0",
   "metadata": {},
   "outputs": [],
   "source": [
    "def general_component_birational(base_affine,birring,birideal,birimage,N):\n",
    "    # We construct the corresponding jet ring\n",
    "    var=list(base_affine.variable_names());\n",
    "    R=jet_ring(base_affine.base_ring(),var,[1 for r in var],N+1,base_affine.term_order());\n",
    "    trun=N+1;\n",
    "    nvar=base_affine.ngens();\n",
    "    # We construct the enlarged ring\n",
    "    varbir=list(birring.variable_names());\n",
    "    varbase=var;\n",
    "    varaug=varbase+varbir;\n",
    "    dimaug=[1 for s in varaug];\n",
    "    R_aug=jet_ring(R.base_ring(),varaug,dimaug,trun,R.term_order());\n",
    "    # We define the ring extension of the ring of the birational model into the elarged ring\n",
    "    bir_inj=birring.hom([R_aug.gen((nvar + i)*trun) for i in range(birring.ngens())]);\n",
    "    # We define the extension in the enlarged ring of the ideal defining the jet scheme of the birational model via HS\n",
    "    gen_birideal_inj=[bir_inj(r) for r in birideal];\n",
    "    gen_birideal_aug_HS=HasseSchmidt(gen_birideal_inj,N);\n",
    "    birideal_aug_HS=HS_to_ideal(gen_birideal_aug_HS,N);\n",
    "    # We define the ideal of the enlarged ring generated by the elements corresponding to the images of the variables via the birational morphism\n",
    "    birimage_inj=[bir_inj(r) for r in birimage];\n",
    "    dif_image=[R_aug.gen(trun*i)-birimage_inj[i] for i in range(len(birimage_inj))];\n",
    "    dif_image_HS=HasseSchmidt(dif_image,N);\n",
    "    ideal_image_HS=HS_to_ideal(dif_image_HS,N);\n",
    "    # We define the sum of the preceding ideals and perform the elimination of variables to obtain the kernel\n",
    "    K=ideal_image_HS + birideal_aug_HS;\n",
    "    ker=K.elimination_ideal([R_aug.gen(j) for j in range(nvar*trun,len(varaug)*trun)])\n",
    "    # We consider the obtained ideal in the original ring\n",
    "    gen_ker=ker.gens();\n",
    "    gen_ker_original_ring=[R(g) for g in gen_ker];\n",
    "    ker_original=R.ideal(gen_ker_original_ring);\n",
    "    return ker_original"
   ]
  },
  {
   "cell_type": "markdown",
   "id": "97c851fa",
   "metadata": {},
   "source": [
    "**Example:** $ \\mathscr{C}:=\\mathrm{Spec}(\\mathbf{Q}[x,y]/\\langle x^3-y^2\\rangle) $\n",
    "\n",
    "We use the **lexicographic order** with $y_m>\\cdots>y_0>x_m>\\cdots>x_0$.\n",
    "\n",
    "For the **algorithm based in the birational model** (Algorithm 2), the birational model is the normalization, given by the morphism $ \\nu^{\\sharp}:\\mathbf{Q}[x,y]/\\langle x^3-y^2\\rangle\\rightarrow \\mathbf{Q}[T] $, $ \\nu^{\\sharp}(x)=T^2 $, $ \\nu^{\\sharp}(y)=T^3 $.\n",
    "\n",
    "Input (only the required lines need to be modified with the data):"
   ]
  },
  {
   "cell_type": "code",
   "execution_count": 48,
   "id": "0c1427a3",
   "metadata": {},
   "outputs": [
    {
     "name": "stdout",
     "output_type": "stream",
     "text": [
      "Defining x, y\n",
      "Defining T\n"
     ]
    }
   ],
   "source": [
    "field=QQ #Give the base field\n",
    "monomial_order='invlex' #Give the monomial order\n",
    "\n",
    "#Data about the base variety\n",
    "var_base=['x','y'] #Give the list of variables of the polynomial ring of the affine space containing the variety\n",
    "base_affine=PolynomialRing(field,var_base,order=monomial_order)\n",
    "base_affine.inject_variables()\n",
    "base_ideal=base_affine.ideal([x^3-y^2]) #Give the generators of the ideal defining the base variety\n",
    "\n",
    "#Data about the birational model\n",
    "var_bir=['T'] #Give the list of variables of the polynomial ring of the affine space containing the birational model\n",
    "birring=PolynomialRing(field,var_bir, order=monomial_order)\n",
    "birring.inject_variables()\n",
    "birideal=[0] #Give the generators of the ideal defining the birational model\n",
    "birimage=[T^2,T^3] #Give the images via the birational morphism of the variables of the base variety."
   ]
  },
  {
   "cell_type": "code",
   "execution_count": 49,
   "id": "7000557a",
   "metadata": {},
   "outputs": [
    {
     "data": {
      "text/plain": [
       "Ideal (y0^2 - x0^3, 2*x0*y1 - 3*x1*y0, 2*y0*y1 - 3*x0^2*x1, 4*y1^2 - 9*x0*x1^2) of Multivariate Polynomial Ring in x0, x1, y0, y1 over Rational Field"
      ]
     },
     "execution_count": 49,
     "metadata": {},
     "output_type": "execute_result"
    }
   ],
   "source": [
    "N1_bir_invlex=general_component_birational(base_affine,birring,birideal,birimage,1)\n",
    "N1_bir_invlex"
   ]
  },
  {
   "cell_type": "code",
   "execution_count": 50,
   "id": "2654ffbd",
   "metadata": {},
   "outputs": [
    {
     "data": {
      "text/plain": [
       "Ideal (y0^2 - x0^3, 2*x0*y1 - 3*x1*y0, 2*y0*y1 - 3*x0^2*x1, 4*y1^2 - 9*x0*x1^2) of Multivariate Polynomial Ring in x0, x1, y0, y1 over Rational Field"
      ]
     },
     "execution_count": 50,
     "metadata": {},
     "output_type": "execute_result"
    }
   ],
   "source": [
    "N1_sat_invlex=general_component_saturation(base_affine,base_ideal,1)\n",
    "N1_sat_invlex"
   ]
  },
  {
   "cell_type": "markdown",
   "id": "45375f53",
   "metadata": {},
   "source": [
    "## Algorithms for computations in the Grothendieck ring"
   ]
  },
  {
   "cell_type": "markdown",
   "id": "fd982b02",
   "metadata": {},
   "source": [
    "Function `ideal_origin`: given an ideal of a jet scheme of some order of an affine space corresponding to the jet scheme of an affine variety as a closed subscheme, it returns the ideal defining the set of jets centered at the origin.\n",
    "\n",
    "**Inputs:**\n",
    "\n",
    "- `I`: an ideal of a jet ring $A_n$ (a ring constructed using `jet_ring`) defining as a closed subscheme the jet scheme of some affine variety.\n",
    "\n",
    "**Output:** An ideal of the same ring, defining the set $(\\pi^{n}_{0})^{-1}(\\mathfrak{o})$."
   ]
  },
  {
   "cell_type": "code",
   "execution_count": 51,
   "id": "bb9afbd3",
   "metadata": {},
   "outputs": [],
   "source": [
    "def ideal_origin(I):\n",
    "    trun=truncation_order(I.ring());\n",
    "    nvar=I.ring().ngens()//trun;\n",
    "    origin=I.ring().ideal([I.ring().gen(trun*r) for r in range(nvar)]);\n",
    "    J=I+origin;\n",
    "    return J"
   ]
  },
  {
   "cell_type": "code",
   "execution_count": 52,
   "id": "9810c0a8",
   "metadata": {},
   "outputs": [
    {
     "name": "stdout",
     "output_type": "stream",
     "text": [
      "Defining x, y, z\n"
     ]
    },
    {
     "data": {
      "text/plain": [
       "Ideal (-z0^3 + x0*y0, -3*z0^2*z1 + x1*y0 + x0*y1, -3*z0*z1^2 - 3*z0^2*z2 + x2*y0 + x1*y1 + x0*y2, -z1^3 - 6*z0*z1*z2 - 3*z0^2*z3 + x3*y0 + x2*y1 + x1*y2 + x0*y3, x0, y0, z0) of Multivariate Polynomial Ring in x0, x1, x2, x3, y0, y1, y2, y3, z0, z1, z2, z3 over Rational Field"
      ]
     },
     "execution_count": 52,
     "metadata": {},
     "output_type": "execute_result"
    }
   ],
   "source": [
    "base_affine=PolynomialRing(QQ,['x','y','z'],order='degrevlex')\n",
    "base_affine.inject_variables()\n",
    "base_ideal=base_affine.ideal([x*y-z^3])\n",
    "I=jet_ring_HS(base_affine, base_ideal, 4)[1]#We only keep the ideal, not the ring\n",
    "ideal_origin(I)"
   ]
  },
  {
   "cell_type": "markdown",
   "id": "59cf632a",
   "metadata": {},
   "source": [
    "Function `V`: given two ideals $I,J$ of the same polynomial ring, returns the ideal $I+J$ with generators those of $J$ and the reduction of those of $I$ modulo (the reduced Gröbner basis of) $J$.\n",
    "\n",
    "**Inputs:**\n",
    "\n",
    "- `I`: an ideal of a polynomial ring.\n",
    "- `J`: an ideal of the same polynomial ring.\n",
    "\n",
    "**Output:** The ideal $I+J$ of the same ring, with generators $\\langle g,\\mathrm{red}_{J}(f):f \\text{ a generator of I}, g \\text{ a generator of J}\\rangle$."
   ]
  },
  {
   "cell_type": "code",
   "execution_count": 53,
   "id": "6460c736",
   "metadata": {},
   "outputs": [],
   "source": [
    "def V(I,J):\n",
    "    L=J.gens().copy()\n",
    "    for f in I.gens():\n",
    "        L.append(J.reduce(f))\n",
    "    return I.ring().ideal(L)"
   ]
  },
  {
   "cell_type": "code",
   "execution_count": 54,
   "id": "8eecb715",
   "metadata": {
    "scrolled": true
   },
   "outputs": [
    {
     "name": "stdout",
     "output_type": "stream",
     "text": [
      "Defining x, y, z\n",
      "Defining x0, x1, x2, x3, y0, y1, y2, y3, z0, z1, z2, z3\n"
     ]
    },
    {
     "data": {
      "text/plain": [
       "Ideal (x0, -z0^3, -3*z0^2*z1 + x1*y0, -3*z0*z1^2 - 3*z0^2*z2 + x2*y0 + x1*y1, -z1^3 - 6*z0*z1*z2 - 3*z0^2*z3 + x3*y0 + x2*y1 + x1*y2) of Multivariate Polynomial Ring in x0, x1, x2, x3, y0, y1, y2, y3, z0, z1, z2, z3 over Rational Field"
      ]
     },
     "execution_count": 54,
     "metadata": {},
     "output_type": "execute_result"
    }
   ],
   "source": [
    "base_affine=PolynomialRing(QQ,['x','y','z'],order='degrevlex')\n",
    "base_affine.inject_variables()\n",
    "base_ideal=base_affine.ideal([x*y-z^3])\n",
    "I=jet_ring_HS(base_affine, base_ideal, 4)[1]#We only keep the ideal, not the ring\n",
    "I.ring().inject_variables()\n",
    "V(I,I.ring().ideal(x0))"
   ]
  },
  {
   "cell_type": "markdown",
   "id": "469316b3",
   "metadata": {},
   "source": [
    "Function `simplify_quotient_ring`: given an ideal $I$ of a polynomial ring $A$, it returns another ideal $H$ of a polynomial ring $A'$ such that $A/I\\cong A'/H$. The ring $A'$ is the quotient of $A$ by the ideal generated by all the coordinates which appear in the obtained presentation of $I$.\n",
    "\n",
    "**Inputs:**\n",
    "\n",
    "- `I`: an ideal of a polynomial ring.\n",
    "\n",
    "**Output:** An ideal $H$ of the polynomial ring $A'$ such that $A/I\\cong A'/H$. The ring $A'$ is the quotient of $A$ by the ideal generated by all the coordinates which appear in the obtained presentation of $I$."
   ]
  },
  {
   "cell_type": "code",
   "execution_count": 55,
   "id": "4e5fbacb",
   "metadata": {},
   "outputs": [],
   "source": [
    "def simplify_quotient_ring(I):\n",
    "    var_elim=list(set(I.ring().irrelevant_ideal().gens()).intersection(I.gens()))#list of variables we can eliminate\n",
    "    A1=I.ring().remove_var(*var_elim)#constructs the new ring removing these variables\n",
    "    images_quotient=[f if f not in var_elim else 0 for f in I.ring().irrelevant_ideal().gens()]#images of the coordinates in the new ring, just send those that we eliminate to 0\n",
    "    quotient_morphism=I.ring().hom(images_quotient,A1)\n",
    "    return quotient_morphism.pushforward(I)"
   ]
  },
  {
   "cell_type": "code",
   "execution_count": 56,
   "id": "4441bd4c",
   "metadata": {},
   "outputs": [
    {
     "name": "stdout",
     "output_type": "stream",
     "text": [
      "Defining x, y, z\n"
     ]
    },
    {
     "data": {
      "text/plain": [
       "Ideal (y^3 + x^2, 0) of Multivariate Polynomial Ring in x, y over Rational Field"
      ]
     },
     "execution_count": 56,
     "metadata": {},
     "output_type": "execute_result"
    }
   ],
   "source": [
    "A=PolynomialRing(QQ,['x','y','z'],order='degrevlex')\n",
    "A.inject_variables()\n",
    "I=A.ideal([x^2+y^3,z])\n",
    "simplify_quotient_ring(I)"
   ]
  },
  {
   "cell_type": "markdown",
   "id": "2b88d41c",
   "metadata": {},
   "source": [
    "Function `Grothendieck_cut_V`: given two ideals $I,J$ of the same polynomial ring $A$, it returns another ideal $H$ of a polynomial ring $A'$ such that $A/\\sqrt{(I+J)}\\cong A'/H$. The ring $A'$ is the quotient of $A$ by the ideal generated by all the coordinates which appear in the obtained presentation of $\\sqrt{(I+J)}$.\n",
    "\n",
    "Note that this function probably requires the computation of a Gröbner basis for computing $\\sqrt{(I+J)}$.\n",
    "\n",
    "**Inputs:**\n",
    "\n",
    "- `I`: an ideal of a polynomial ring.\n",
    "- `J`: an ideal of the same polynomial ring.\n",
    "\n",
    "**Output:** An ideal $H$ of the polynomial ring $A'$ such that $A/\\sqrt{(I+J)}\\cong A'/H$. The ring $A'$ is the quotient of $A$ by the ideal generated by all the coordinates which appear in the obtained presentation of $\\sqrt{(I+J)}$."
   ]
  },
  {
   "cell_type": "code",
   "execution_count": 57,
   "id": "6e87a43d",
   "metadata": {},
   "outputs": [],
   "source": [
    "def Grothendieck_cut_V(I,J):\n",
    "    I_cut=V(I,J)\n",
    "    I_cut_rad=I_cut.radical()\n",
    "    return simplify_quotient_ring(I_cut_rad)"
   ]
  },
  {
   "cell_type": "code",
   "execution_count": 58,
   "id": "decd57ef",
   "metadata": {},
   "outputs": [
    {
     "name": "stdout",
     "output_type": "stream",
     "text": [
      "Defining x, y, z\n",
      "Defining x0, x1, x2, x3, y0, y1, y2, y3, z0, z1, z2, z3\n"
     ]
    },
    {
     "data": {
      "text/plain": [
       "Ideal (0, 0, x1*y1, x2*y0, x1*y0, z1^3 - x3*y0 - x2*y1 - x1*y2) of Multivariate Polynomial Ring in x1, x2, x3, y0, y1, y2, y3, z1, z2, z3 over Rational Field"
      ]
     },
     "execution_count": 58,
     "metadata": {},
     "output_type": "execute_result"
    }
   ],
   "source": [
    "base_affine=PolynomialRing(QQ,['x','y','z'],order='degrevlex')\n",
    "base_affine.inject_variables()\n",
    "base_ideal=base_affine.ideal([x*y-z^3])\n",
    "I=jet_ring_HS(base_affine, base_ideal, 4)[1]#We only keep the ideal, not the ring\n",
    "I.ring().inject_variables()\n",
    "Grothendieck_cut_V(I,I.ring().ideal(x0))"
   ]
  },
  {
   "cell_type": "markdown",
   "id": "25fc725c",
   "metadata": {},
   "source": [
    "Function `free_variables`: given an ideal $I$ of some polynomial ring, a list containing all the coordinates of the ring which do not appear in any generator of the ideal (hence they are free).\n",
    "\n",
    "**Inputs:**\n",
    "\n",
    "- `I`: an ideal of a polynomial ring.\n",
    "\n",
    "**Output:** A list containing the coordinates of the ring which do not appear in any generator of the ideal."
   ]
  },
  {
   "cell_type": "code",
   "execution_count": 59,
   "id": "d61a659d",
   "metadata": {},
   "outputs": [],
   "source": [
    "def free_variables(I):\n",
    "    degrees=[0]*I.ring().ngens()\n",
    "    for f in I.gens():\n",
    "        degrees=[max(l1, l2) for l1, l2 in zip(degrees, f.degrees())]#computes the variables which appear in some generator of the ideal via the multidegrees\n",
    "    free_variables=[]\n",
    "    for i in range(len(degrees)):\n",
    "        if degrees[i]==0:\n",
    "            free_variables.append(I.ring().irrelevant_ideal().gen(i))\n",
    "    return free_variables"
   ]
  },
  {
   "cell_type": "code",
   "execution_count": 60,
   "id": "345cd622",
   "metadata": {},
   "outputs": [
    {
     "name": "stdout",
     "output_type": "stream",
     "text": [
      "Defining x, y, z\n"
     ]
    },
    {
     "data": {
      "text/plain": [
       "[z]"
      ]
     },
     "execution_count": 60,
     "metadata": {},
     "output_type": "execute_result"
    }
   ],
   "source": [
    "A=PolynomialRing(QQ,['x','y','z'],order='degrevlex')\n",
    "A.inject_variables()\n",
    "I=A.ideal([x^2+y^3])\n",
    "free_variables(I)"
   ]
  },
  {
   "cell_type": "markdown",
   "id": "d4eecec7",
   "metadata": {},
   "source": [
    "Function `remove_zero_generators`: given an ideal $I$ of a polynomial ring, it returns the same ideal without the zero generators, if any.\n",
    "\n",
    "**Inputs:**\n",
    "\n",
    "- `I`: an ideal.\n",
    "\n",
    "**Output:** The same ideal not including zero generators in its presentation."
   ]
  },
  {
   "cell_type": "code",
   "execution_count": 61,
   "id": "836ae213",
   "metadata": {},
   "outputs": [],
   "source": [
    "def remove_zero_generators(I):\n",
    "    return I.ring().ideal([f for f in I.gens() if f!=0])"
   ]
  },
  {
   "cell_type": "code",
   "execution_count": 62,
   "id": "fd44e00a",
   "metadata": {},
   "outputs": [
    {
     "name": "stdout",
     "output_type": "stream",
     "text": [
      "Defining x, y\n",
      "Ideal (y^3 + x^2, 0, 0) of Multivariate Polynomial Ring in x, y over Rational Field\n"
     ]
    },
    {
     "data": {
      "text/plain": [
       "Ideal (y^3 + x^2) of Multivariate Polynomial Ring in x, y over Rational Field"
      ]
     },
     "execution_count": 62,
     "metadata": {},
     "output_type": "execute_result"
    }
   ],
   "source": [
    "A=PolynomialRing(QQ,['x','y'],order='degrevlex')\n",
    "A.inject_variables()\n",
    "I=A.ideal([x^2+y^3,0,0])\n",
    "print(I)\n",
    "remove_zero_generators(I)"
   ]
  },
  {
   "cell_type": "markdown",
   "id": "cbec6a56",
   "metadata": {},
   "source": [
    "Function `cut_D`: given an ideal $I$ of the a polynomial ring $A$ and a list of coordinates $L$, it returns the ideal $I+\\langle T_iT_{i,inv}-1:T_i\\in L\\rangle$ of the polynomial ring $A[T_{i,inv}]$. This ideal is equal to the extension of $I$ in the localization $A_{\\prod_{T_i\\in L} T_i}$, up to the isomorphism $A_{\\prod_{T_i\\in L} T_i}\\cong A[T_{i,inv}]/\\langle T_iT_{i,inv}-1:T_i\\in L\\rangle$.\n",
    "\n",
    "**Inputs:**\n",
    "\n",
    "- `I`: an ideal of a polynomial ring.\n",
    "- `L`: a list of the coordinates of the same polynomial ring that we want to make units.\n",
    "\n",
    "**Output:** The ideal $I+\\langle T_iT_{i,inv}-1:T_i\\in L\\rangle$ of the polynomial ring $A[T_{i,inv}]$."
   ]
  },
  {
   "cell_type": "code",
   "execution_count": 63,
   "id": "c95edfc2",
   "metadata": {},
   "outputs": [],
   "source": [
    "def cut_D(I,L):\n",
    "    A1=PolynomialRing(I.ring().base(),list(I.ring().variable_names())+[str(f)+'_inv' for f in L],order=I.ring().term_order())#constructs a polynomial ring with new variables corresponding to inverses to the given elements\n",
    "    localization_ideal=A1.ideal([L[i]*A1.gen(A1.ngens()-len(L)+i)-1 for i in range(len(L))])#the ideal with the relations making the previous ring isomorphic to the localization\n",
    "    localization_map=I.ring().hom(I.ring().irrelevant_ideal().gens(),A1)\n",
    "    return localization_map.pushforward(I)+localization_ideal"
   ]
  },
  {
   "cell_type": "code",
   "execution_count": 64,
   "id": "9595cbb2",
   "metadata": {},
   "outputs": [
    {
     "name": "stdout",
     "output_type": "stream",
     "text": [
      "Defining x, y, z\n"
     ]
    },
    {
     "data": {
      "text/plain": [
       "Ideal (-z^3 + x*y, y*y_inv - 1, z*z_inv - 1) of Multivariate Polynomial Ring in x, y, z, y_inv, z_inv over Rational Field"
      ]
     },
     "execution_count": 64,
     "metadata": {},
     "output_type": "execute_result"
    }
   ],
   "source": [
    "A=PolynomialRing(QQ,['x','y','z'],order='degrevlex')\n",
    "A.inject_variables()\n",
    "I=base_affine.ideal([x*y-z^3])\n",
    "cut_D(I,[y,z])"
   ]
  },
  {
   "cell_type": "markdown",
   "id": "a3adee3b",
   "metadata": {},
   "source": [
    "Function `units`: given a polynomial ring $A$ of the form $A'[T_{i,inv}]$, it identifies the variables $T_i$ which have been inversed using the function `cut_D` and returns them and the ideal $\\langle T_iT_{i,inv}-1:T_i\\in L\\rangle$ of relations such that $A'_{\\prod T_i}\\cong A/\\langle T_iT_{i,inv}-1:T_i\\in L\\rangle$.\n",
    "\n",
    "**Inputs:**\n",
    "\n",
    "- `A`: a polynomial ring.\n",
    "\n",
    "**Output:** A list containing:\n",
    "- In the first entry, a list whose entries are lists of the form $[T_i,T_{i,inv}]$.\n",
    "- In the second entry, the ideal $\\langle T_iT_{i,inv}-1:T_i\\in L\\rangle$ of $A$."
   ]
  },
  {
   "cell_type": "code",
   "execution_count": 65,
   "id": "69a6c75c",
   "metadata": {},
   "outputs": [],
   "source": [
    "def units(A):\n",
    "    inverses=[var for var in A.variable_names() if '_inv' in var]\n",
    "    units=[[A.variable_names().index(var[:-4]),A.variable_names().index(var)] for var in inverses]\n",
    "    localization_ideal=A.ideal([A.gen(var[0])*A.gen(var[1])-1 for var in units])#construir el ideal de relaciones\n",
    "    return [units,localization_ideal]"
   ]
  },
  {
   "cell_type": "code",
   "execution_count": 66,
   "id": "dc6c99fc",
   "metadata": {},
   "outputs": [
    {
     "name": "stdout",
     "output_type": "stream",
     "text": [
      "Defining x, y, z\n"
     ]
    },
    {
     "data": {
      "text/plain": [
       "[[[1, 3], [2, 4]],\n",
       " Ideal (y*y_inv - 1, z*z_inv - 1) of Multivariate Polynomial Ring in x, y, z, y_inv, z_inv over Rational Field]"
      ]
     },
     "execution_count": 66,
     "metadata": {},
     "output_type": "execute_result"
    }
   ],
   "source": [
    "A=PolynomialRing(QQ,['x','y','z'],order='degrevlex')\n",
    "A.inject_variables()\n",
    "I=base_affine.ideal([x*y-z^3])\n",
    "units(cut_D(I,[y,z]).ring())"
   ]
  },
  {
   "cell_type": "markdown",
   "id": "e77ecb5e",
   "metadata": {},
   "source": [
    "Function `eliminate_variables_D`: given an ideal $I$ of a localization of a polynomial ring $A$ in the variables $T_i$, a variable $x_i$ of this polynomial ring and a generator $f$ of the ideal which allows to eliminate the variable, it performs this elimination. It returns the ideal $I'$ of $A'$ (here $A\\cong A'[x_i]$) such that the morphism $\\phi:A\\rightarrow A'$ with kernel $\\langle f\\rangle$ induces an ismorphism $A/I\\cong A'/I'$.\n",
    "\n",
    "Here we say that $f$ allows to eliminate $x_i$ if $x_i$ only appears in one monomial of $f$ with exponent 1 and all the other variables in this monomial are invertible.\n",
    "\n",
    "**Inputs:**\n",
    "\n",
    "- `I`: an ideal of a localization of a polynomial ring in some variables.\n",
    "- `var`: a variable of the ambient polynomial ring.\n",
    "- `f`: a generator of $I$ which allows to eliminate `var`.\n",
    "\n",
    "**Output:** $I'$ of $A'$ (here $A\\cong A'[x_i]$) such that the morphism $\\phi:A\\rightarrow A'$ with kernel $\\langle f\\rangle$ induces an ismorphism $A/I\\cong A'/I'$."
   ]
  },
  {
   "cell_type": "code",
   "execution_count": 67,
   "id": "fc5751bd",
   "metadata": {},
   "outputs": [],
   "source": [
    "def eliminate_variables_D(I,var,f):\n",
    "    [units_list,localization_ideal]=units(I.ring())\n",
    "    var_position=I.ring().gens().index(var)\n",
    "    f_position=I.gens().index(f)\n",
    "    #Find the exponents of the invertible coordinates in the monomial where the coordinate we want to eliminate appears\n",
    "    for monomial in I.gen(f_position).iterator_exp_coeff():\n",
    "        if monomial[0][var_position]!=0:\n",
    "            exponents_units=[monomial[0][unit[0]]-monomial[0][unit[1]] for unit in units_list]\n",
    "    #Suitable multiple of f by the needed powers of the invertible coordinates so that the reduction modulo the localization ideal is direct\n",
    "    f_multiple=I.gen(f_position)*prod([I.ring().gen(units_list[i][1])^exponents_units[i] if exponents_units[i]>=0 else I.ring().gen(units_list[i][1])^abs(exponents_units[i]) for i in range(len(units_list))])\n",
    "    f_in_localization=localization_ideal.reduce(f_multiple)\n",
    "    #Compute the coefficient of the variable we want to eliminate in the localization\n",
    "    for monomial in f_in_localization.iterator_exp_coeff():\n",
    "        if monomial[0][var_position]!=0:\n",
    "            coef_var=monomial[1]\n",
    "    image_var=-f_in_localization/coef_var+I.ring().gen(var_position)#This polynomial is equal to var in the localization modulo I\n",
    "    A1=I.ring().remove_var(I.ring().gen(var_position))#constructs the new ring removing the variable\n",
    "    images_quotient=[f if f!=I.ring().gen(var_position) else image_var for f in I.ring().irrelevant_ideal().gens()]#images of the coordinates in the new ring, just send those that we eliminate to 0\n",
    "    quotient_morphism=I.ring().hom(images_quotient,A1)\n",
    "    I1=quotient_morphism.pushforward(I)\n",
    "    #We reduce modulo localization_ideal in the new ring again, otherwise some simplifications are not made\n",
    "    [units_list1,localization_ideal1]=units(A1)\n",
    "    I2=A1.ideal([localization_ideal1.reduce(f) for f in I1.gens()])+localization_ideal1\n",
    "    #We remove the zero generators\n",
    "    return remove_zero_generators(I2)"
   ]
  },
  {
   "cell_type": "code",
   "execution_count": 73,
   "id": "529fea8f",
   "metadata": {},
   "outputs": [
    {
     "name": "stdout",
     "output_type": "stream",
     "text": [
      "Defining x, y, z\n"
     ]
    },
    {
     "data": {
      "text/plain": [
       "Ideal (y*y_inv - 1) of Multivariate Polynomial Ring in y, z, y_inv over Rational Field"
      ]
     },
     "execution_count": 73,
     "metadata": {},
     "output_type": "execute_result"
    }
   ],
   "source": [
    "A=PolynomialRing(QQ,['x','y','z'],order='degrevlex')\n",
    "A.inject_variables()\n",
    "I=A.ideal([x*y-z^3])\n",
    "I1=cut_D(I,[y])\n",
    "eliminate_variables_D(I1,x,x*y-z^3)"
   ]
  },
  {
   "cell_type": "markdown",
   "id": "c60b57fb",
   "metadata": {},
   "source": [
    "Function `can_eliminate_variables`: given an ideal $I$ of a polynomial ring $k[T_i]$ (maybe some coordinates are invertible because of the relations in the ideal, giving rise to a localization like the one constructed using `cut_D`) and a list of variables $L$, it returns a list of pairs $[T_i,g_i]$ of a variable $T_i$ of the polynomial ring $k[T_i]$ and a generator $g_i$ of $I$ which can be used to eliminate $T_i$ if we make all the variables in $L$ invertible (in addition to the ones which are already invertible in the ring modulo the corresponding relations)\n",
    "\n",
    "Here we say that $g_i$ allows to eliminate $T_i$ if $T_i$ only appears in one monomial of $g_i$ with exponent 1 and all the other variables in this monomial are invertible. Note a single generator may allow to eliminate more than one variable, then it will appear in more than one pair in the output.\n",
    "\n",
    "**Inputs:**\n",
    "\n",
    "- `I`: an ideal of a polynomial ring.\n",
    "- `L`: a list containing the new variables that we want to make invertible (possibly empty).\n",
    "\n",
    "**Output:** A list $[[T_{i_1},g_{i_1}],[T_{i_2},g_{i_2}],\\dots,[T_{i_n},g_{i_n}]]$ where $T_{i_j}$ is a variable which can be eliminated using $g_{i_n}$ and assuming that the variables in $L$ are invertible, in addition to the ones which already were."
   ]
  },
  {
   "cell_type": "code",
   "execution_count": 69,
   "id": "19954538",
   "metadata": {},
   "outputs": [],
   "source": [
    "def can_eliminate_variables(I,L):\n",
    "    [units_list,localization_ideal]=units(I.ring())\n",
    "    new_units_list=[j for i in units_list for j in i]+[I.ring().gens().index(var) for var in L]\n",
    "    #We map the generators into an auxiliary ring where all the invertible coordinates are mapped to 1\n",
    "    images_map_aux=[I.ring().gen(i) if i not in new_units_list else 1 for i in range(I.ring().ngens())]\n",
    "    A_aux=I.ring().remove_var(*[I.ring().gen(i) for i in new_units_list])\n",
    "    map_aux=I.ring().hom(images_map_aux,A_aux)\n",
    "    list_eliminate=[]\n",
    "    #This loop looks, in every generator of the ideal, for variables which only appear in one monomial, with exponent 1 and with only invertible variables in that monomial\n",
    "    for generator in I.gens():\n",
    "        gen_aux=map_aux(generator)#We work in the auxiliary ring to remove the invertible variables\n",
    "        gen_deg=list(gen_aux.iterator_exp_coeff())#The list with the multidegrees of each monomial of the generator (and also its coefficient)\n",
    "        nonzero_monomials=[[i for i,e in enumerate(monomial[0]) if e!=0] for monomial in gen_deg]#List with the indices of the variables with nonzero exponent for each monomial of the generator \n",
    "        nonzero_poly=[i for monomial in nonzero_monomials for i in monomial]#List with all the indices of the variables which appear (exponent at least one) in the generator. Each index appears once for each occurrence of the variable in a monomial\n",
    "        #Now we identify the monomials which are in fact variables we can eliminate using 3 conditions: (a) only one non-invertible variable in the monomial, (b) it has exponent 1 and (c) the variable does not appear in other monomial of the same generator\n",
    "        for monomial in range(len(nonzero_monomials)):\n",
    "            if len(nonzero_monomials[monomial])==1 and gen_deg[monomial][0][nonzero_monomials[monomial][0]]==1 and nonzero_poly.count(nonzero_monomials[monomial][0])==1:\n",
    "                list_eliminate.append([map_aux.inverse_image(A_aux.gen(nonzero_monomials[monomial][0])),generator])#We come back to the corresponding variable in the original ring (we were in the auxiliary ring)\n",
    "    return list_eliminate"
   ]
  },
  {
   "cell_type": "code",
   "execution_count": 70,
   "id": "6af1e0ee",
   "metadata": {},
   "outputs": [
    {
     "name": "stdout",
     "output_type": "stream",
     "text": [
      "Defining x, y, z\n",
      "[]\n",
      "[[x, -z^3 + x*y]]\n"
     ]
    }
   ],
   "source": [
    "A=PolynomialRing(QQ,['x','y','z'],order='degrevlex')\n",
    "A.inject_variables()\n",
    "I=A.ideal([x*y-z^3])\n",
    "print(can_eliminate_variables(I,[]))\n",
    "print(can_eliminate_variables(I,[y]))"
   ]
  },
  {
   "cell_type": "markdown",
   "id": "be3124d5",
   "metadata": {},
   "source": [
    "Function `I_am_smarter_than_you`: given an ideal of a polynomial ring $k[T_i]$, it returns the ideal $\\langle f,g:f\\text{ is a generator of }I\\text{ not in remove_generators}, g\\in\\text{ add_generators}\\rangle$ of the polynomial ring $k[T_i:T_i\\notin \\text{ remove_variables}]$.\n",
    "\n",
    "This function is useful for re-entering an ideal after some manipulations made by hand.\n",
    "\n",
    "**Inputs:**\n",
    "\n",
    "- `I`: an ideal of a polynomial ring.\n",
    "- `remove_generators`: a list containing the generators that we want to remove from the ideal.\n",
    "- `add_generators`: a list containing the generators that we want to add to the ideal.\n",
    "- `remove_variables`: a list containing the variables that we want to remove from the ring.\n",
    "\n",
    "**Output:** the ideal $\\langle f,g:f\\text{ is a generator of }I\\text{ not in remove_generators}, g\\in\\text{ add_generators}\\rangle$ of the polynomial ring $k[T_i:T_i\\notin \\text{ remove_variables}]$."
   ]
  },
  {
   "cell_type": "code",
   "execution_count": 71,
   "id": "8181f8b3",
   "metadata": {},
   "outputs": [],
   "source": [
    "def I_am_smarter_than_you(I,remove_generators,add_generators,remove_variables):\n",
    "    return I.ring().remove_var(*remove_variables).ideal([gen for gen in I.gens() if gen not in remove_generators]+add_generators)"
   ]
  },
  {
   "cell_type": "code",
   "execution_count": 72,
   "id": "13ba6927",
   "metadata": {
    "scrolled": true
   },
   "outputs": [
    {
     "name": "stdout",
     "output_type": "stream",
     "text": [
      "Defining x, y, z\n",
      "Ideal (-z^3 + x*y, y*y_inv - 1) of Multivariate Polynomial Ring in x, y, z, y_inv over Rational Field\n",
      "Defining x, y, z, y_inv\n"
     ]
    },
    {
     "data": {
      "text/plain": [
       "Ideal (y*y_inv - 1) of Multivariate Polynomial Ring in y, z, y_inv over Rational Field"
      ]
     },
     "execution_count": 72,
     "metadata": {},
     "output_type": "execute_result"
    }
   ],
   "source": [
    "A=PolynomialRing(QQ,['x','y','z'],order='degrevlex')\n",
    "A.inject_variables()\n",
    "I=base_affine.ideal([x*y-z^3])\n",
    "I1=cut_D(I,[y])\n",
    "print(I1)\n",
    "I1.ring().inject_variables()\n",
    "I_am_smarter_than_you(I1,[x*y-z^3],[],[x])"
   ]
  }
 ],
 "metadata": {
  "kernelspec": {
   "display_name": "SageMath 9.7",
   "language": "sage",
   "name": "sagemath"
  },
  "language_info": {
   "codemirror_mode": {
    "name": "ipython",
    "version": 3
   },
   "file_extension": ".py",
   "mimetype": "text/x-python",
   "name": "python",
   "nbconvert_exporter": "python",
   "pygments_lexer": "ipython3",
   "version": "3.10.5"
  }
 },
 "nbformat": 4,
 "nbformat_minor": 5
}
